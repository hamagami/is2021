{
  "nbformat": 4,
  "nbformat_minor": 0,
  "metadata": {
    "colab": {
      "name": "som_exampleipynb",
      "provenance": []
    },
    "kernelspec": {
      "name": "python3",
      "display_name": "Python 3"
    }
  },
  "cells": [
    {
      "cell_type": "markdown",
      "metadata": {
        "id": "hhFirn_uydaC"
      },
      "source": [
        "\n",
        "\n",
        "```\n",
        "# これはコードとして書式設定されます\n",
        "```\n",
        "\n",
        "SOM example modified from https://qiita.com/T_Shinaji/items/609fe9aabd99c287b389"
      ]
    },
    {
      "cell_type": "code",
      "metadata": {
        "id": "fujhN95hyHjv"
      },
      "source": [
        "import numpy as np\n",
        "from matplotlib import pyplot as plt"
      ],
      "execution_count": 1,
      "outputs": []
    },
    {
      "cell_type": "code",
      "metadata": {
        "id": "RRFeB_XEyK3W"
      },
      "source": [
        "class SOM():\n",
        "\n",
        "    def __init__(self, teachers, N, seed=None):\n",
        "        self.teachers = np.array(teachers)\n",
        "        self.n_teacher = self.teachers.shape[0]\n",
        "        self.N = N\n",
        "        if not seed is None:\n",
        "            np.random.seed(seed)\n",
        "\n",
        "        x, y = np.meshgrid(range(self.N), range(self.N))\n",
        "        self.c = np.hstack((y.flatten()[:, np.newaxis],\n",
        "                            x.flatten()[:, np.newaxis]))\n",
        "        self.nodes = np.random.rand(self.N*self.N,\n",
        "                                    self.teachers.shape[1])\n",
        "\n",
        "    def train(self):\n",
        "        for i, teacher in enumerate(self.teachers):\n",
        "            bmu = self._best_matching_unit(teacher)\n",
        "            d = np.linalg.norm(self.c - bmu, axis=1)\n",
        "            L = self._learning_ratio(i)\n",
        "            S = self._learning_radius(i, d)\n",
        "            self.nodes += L * S[:, np.newaxis] * (teacher - self.nodes)\n",
        "        return self.nodes\n",
        "\n",
        "    def _best_matching_unit(self, teacher):\n",
        "        #compute all norms (square)\n",
        "        norms = np.linalg.norm(self.nodes - teacher, axis=1)\n",
        "        bmu = np.argmin(norms) #argment with minimum element \n",
        "        return np.unravel_index(bmu,(self.N, self.N))\n",
        "\n",
        "    def _neighbourhood(self, t):#neighbourhood radious\n",
        "        halflife = float(self.n_teacher/4) #for testing\n",
        "        initial  = float(self.N/2)\n",
        "        return initial*np.exp(-t/halflife)\n",
        "\n",
        "    def _learning_ratio(self, t):\n",
        "        halflife = float(self.n_teacher/4) #for testing\n",
        "        initial  = 0.1\n",
        "        return initial*np.exp(-t/halflife)\n",
        "\n",
        "    def _learning_radius(self, t, d):\n",
        "        # d is distance from BMU\n",
        "        s = self._neighbourhood(t)\n",
        "        return np.exp(-d**2/(2*s**2))\n"
      ],
      "execution_count": 2,
      "outputs": []
    },
    {
      "cell_type": "code",
      "metadata": {
        "id": "E6vlLUb6yRmx"
      },
      "source": [
        "N = 20        \n",
        "teachers = np.random.rand(10000, 3)\n",
        "som = SOM(teachers, N=N, seed=10)"
      ],
      "execution_count": 3,
      "outputs": []
    },
    {
      "cell_type": "code",
      "metadata": {
        "colab": {
          "base_uri": "https://localhost:8080/",
          "height": 513
        },
        "id": "OFDj3DO8yWcC",
        "outputId": "64f8eb1a-38a5-412e-c48c-2934b4255a37"
      },
      "source": [
        "# Initial map\n",
        "plt.imshow(som.nodes.reshape((N, N, 3)),\n",
        "           interpolation='none')\n",
        "plt.show()\n",
        "\n",
        "# Train\n",
        "som.train()\n",
        "\n",
        "# Trained MAP\n",
        "plt.imshow(som.nodes.reshape((N, N, 3)),\n",
        "           interpolation='none')\n",
        "plt.show()      "
      ],
      "execution_count": 4,
      "outputs": [
        {
          "output_type": "display_data",
          "data": {
            "image/png": "[encoded data removed]",
            "text/plain": [
              "<Figure size 432x288 with 1 Axes>"
            ]
          },
          "metadata": {
            "needs_background": "light"
          }
        },
        {
          "output_type": "display_data",
          "data": {
            "image/png": "[encoded data removed]",
            "text/plain": [
              "<Figure size 432x288 with 1 Axes>"
            ]
          },
          "metadata": {
            "needs_background": "light"
          }
        }
      ]
    },
    {
      "cell_type": "code",
      "metadata": {
        "id": "gKKu2DPxyZtz"
      },
      "source": [
        ""
      ],
      "execution_count": null,
      "outputs": []
    }
  ]
}
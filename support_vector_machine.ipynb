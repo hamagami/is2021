{
  "nbformat": 4,
  "nbformat_minor": 0,
  "metadata": {
    "colab": {
      "name": "support_vector_machine.ipynb",
      "provenance": [],
      "authorship_tag": "ABX9TyP0tu0LR827Q8ATpXwWAlEw",
      "include_colab_link": true
    },
    "kernelspec": {
      "name": "python3",
      "display_name": "Python 3"
    },
    "language_info": {
      "name": "python"
    }
  },
  "cells": [
    {
      "cell_type": "markdown",
      "metadata": {
        "id": "view-in-github",
        "colab_type": "text"
      },
      "source": [
        "<a href=\"https://colab.research.google.com/github/hamagami/is2021/blob/main/support_vector_machine.ipynb\" target=\"_parent\"><img src=\"https://colab.research.google.com/assets/colab-badge.svg\" alt=\"Open In Colab\"/></a>"
      ]
    },
    {
      "cell_type": "markdown",
      "metadata": {
        "id": "IS-xuFUZjEDT"
      },
      "source": [
        "# Simple SVM sample\n",
        "\n",
        "This code directly codes a linear SVM. When you actually use SVM, the code should be more complex for nonlinear problems. Still, this simple code should give you an idea of what SVM is doing.\n",
        "In fact, using the SVM module of sklearn (python's machine learning library), you can develop an SVM application in just a few lines.\n",
        "Ref:\n",
        "https://towardsdatascience.com/support-vector-machine-python-example-d67d9b63f1c8"
      ]
    },
    {
      "cell_type": "code",
      "metadata": {
        "colab": {
          "base_uri": "https://localhost:8080/"
        },
        "id": "OK9sVVfWjtl7",
        "outputId": "c06f7681-039f-4861-9c81-7a7b3bfa654b"
      },
      "source": [
        "!pip install cvxopt\n",
        "# cvxopt is a numerical calculation library. It is used to solve quadratic programming problems."
      ],
      "execution_count": null,
      "outputs": [
        {
          "output_type": "stream",
          "name": "stdout",
          "text": [
            "Requirement already satisfied: cvxopt in /usr/local/lib/python3.7/dist-packages (1.2.7)\n"
          ]
        }
      ]
    },
    {
      "cell_type": "code",
      "metadata": {
        "id": "QLrMH5EvkAOn"
      },
      "source": [
        "import numpy as np\n",
        "import cvxopt\n",
        "from sklearn.datasets import make_blobs\n",
        "from sklearn.model_selection import train_test_split\n",
        "from matplotlib import pyplot as plt"
      ],
      "execution_count": null,
      "outputs": []
    },
    {
      "cell_type": "markdown",
      "metadata": {
        "id": "czKfIlyfklBm"
      },
      "source": [
        "## SVM class"
      ]
    },
    {
      "cell_type": "code",
      "metadata": {
        "id": "F4_ml8ggkIHY"
      },
      "source": [
        "class SVM:\n",
        "\n",
        "    def fit(self, X, y):\n",
        "        n_samples, n_features = X.shape\n",
        "        # P = X^T X\n",
        "        K = np.zeros((n_samples, n_samples))\n",
        "        for i in range(n_samples):\n",
        "            for j in range(n_samples):\n",
        "                K[i,j] = np.dot(X[i], X[j])\n",
        "        P = cvxopt.matrix(np.outer(y, y) * K)\n",
        "        # q = -1 (1xN)\n",
        "        q = cvxopt.matrix(np.ones(n_samples) * -1)\n",
        "        # A = y^T\n",
        "        A = cvxopt.matrix(y, (1, n_samples))\n",
        "        # b = 0\n",
        "        b = cvxopt.matrix(0.0)\n",
        "        # -1 (NxN)\n",
        "        G = cvxopt.matrix(np.diag(np.ones(n_samples) * -1))\n",
        "        # 0 (1xN)\n",
        "        h = cvxopt.matrix(np.zeros(n_samples))\n",
        "        solution = cvxopt.solvers.qp(P, q, G, h, A, b)\n",
        "        # Lagrange multipliers\n",
        "        a = np.ravel(solution['x'])\n",
        "        # Lagrange have non zero lagrange multipliers\n",
        "        sv = a > 1e-5\n",
        "        ind = np.arange(len(a))[sv]\n",
        "        self.a = a[sv]\n",
        "        self.sv = X[sv]\n",
        "        self.sv_y = y[sv]\n",
        "        # Intercept\n",
        "        self.b = 0\n",
        "        for n in range(len(self.a)):\n",
        "            self.b += self.sv_y[n]\n",
        "            self.b -= np.sum(self.a * self.sv_y * K[ind[n], sv])\n",
        "        self.b /= len(self.a)\n",
        "        # Weights\n",
        "        self.w = np.zeros(n_features)\n",
        "        for n in range(len(self.a)):\n",
        "            self.w += self.a[n] * self.sv_y[n] * self.sv[n]\n",
        "\n",
        "    def project(self, X):\n",
        "        return np.dot(X, self.w) + self.b\n",
        "\n",
        "\n",
        "    def predict(self, X):\n",
        "        return np.sign(self.project(X))"
      ],
      "execution_count": null,
      "outputs": []
    },
    {
      "cell_type": "markdown",
      "metadata": {
        "id": "HlNL9w74k9-o"
      },
      "source": [
        "## Line generator"
      ]
    },
    {
      "cell_type": "code",
      "metadata": {
        "id": "hEXwc8Rnk9BO"
      },
      "source": [
        "def f(x, w, b, c=0):\n",
        "    return (-w[0] * x - b + c) / w[1]"
      ],
      "execution_count": null,
      "outputs": []
    },
    {
      "cell_type": "markdown",
      "metadata": {
        "id": "ulFjB8suknjg"
      },
      "source": [
        "## generate dataset"
      ]
    },
    {
      "cell_type": "code",
      "metadata": {
        "id": "nxi8iNcqkjH5"
      },
      "source": [
        "X, y = make_blobs(n_samples=250, centers=2,\n",
        "                  random_state=0, cluster_std=0.60)\n",
        "y[y == 0] = -1\n",
        "tmp = np.ones(len(X))\n",
        "y = tmp * y\n",
        "\n",
        "plt.scatter(X[:, 0], X[:, 1], c=y, cmap='winter')"
      ],
      "execution_count": null,
      "outputs": []
    },
    {
      "cell_type": "code",
      "metadata": {
        "id": "_xiyvlTwkuMG"
      },
      "source": [
        "X_train, X_test, y_train, y_test = train_test_split(X, y, random_state=0)"
      ],
      "execution_count": null,
      "outputs": []
    },
    {
      "cell_type": "markdown",
      "metadata": {
        "id": "Aw4bsLFKkzuD"
      },
      "source": [
        "## Exec SVM fitting"
      ]
    },
    {
      "cell_type": "code",
      "metadata": {
        "colab": {
          "base_uri": "https://localhost:8080/"
        },
        "id": "b8_R2Yybkyhm",
        "outputId": "eb5bae01-bd26-4810-b8b8-b14050a0713b"
      },
      "source": [
        "svm = SVM()\n",
        "svm.fit(X_train, y_train)"
      ],
      "execution_count": null,
      "outputs": [
        {
          "output_type": "stream",
          "name": "stdout",
          "text": [
            "     pcost       dcost       gap    pres   dres\n",
            " 0: -1.8226e+01 -3.4458e+01  6e+02  2e+01  2e+00\n",
            " 1: -2.5252e+01 -1.8773e+01  2e+02  9e+00  7e-01\n",
            " 2: -5.3459e+01 -3.2711e+01  2e+02  7e+00  6e-01\n",
            " 3: -7.8360e+01 -2.6482e+01  1e+02  4e+00  3e-01\n",
            " 4: -5.6818e+00 -5.1750e+00  1e+01  2e-01  1e-02\n",
            " 5: -3.6906e+00 -4.1082e+00  4e-01  4e-16  9e-15\n",
            " 6: -4.0061e+00 -4.0104e+00  4e-03  1e-15  6e-15\n",
            " 7: -4.0094e+00 -4.0094e+00  4e-05  1e-15  4e-15\n",
            " 8: -4.0094e+00 -4.0094e+00  4e-07  2e-15  7e-15\n",
            "Optimal solution found.\n"
          ]
        }
      ]
    },
    {
      "cell_type": "markdown",
      "metadata": {
        "id": "EsJSiNytlBaP"
      },
      "source": [
        "## Draw the discriminate boundary."
      ]
    },
    {
      "cell_type": "code",
      "metadata": {
        "id": "Vm4WzhYQk4ws"
      },
      "source": [
        "plt.scatter(X_train[:, 0], X_train[:, 1], c=y_train, cmap='winter')\n",
        "# w.x + b = 0\n",
        "a0 = -4; a1 = f(a0, svm.w, svm.b)\n",
        "b0 = 4; b1 = f(b0, svm.w, svm.b)\n",
        "plt.plot([a0,b0], [a1,b1], 'k')\n",
        "# w.x + b = 1\n",
        "a0 = -4; a1 = f(a0, svm.w, svm.b, 1)\n",
        "b0 = 4; b1 = f(b0, svm.w, svm.b, 1)\n",
        "plt.plot([a0,b0], [a1,b1], 'k--')\n",
        "# w.x + b = -1\n",
        "a0 = -4; a1 = f(a0, svm.w, svm.b, -1)\n",
        "b0 = 4; b1 = f(b0, svm.w, svm.b, -1)\n",
        "plt.plot([a0,b0], [a1,b1], 'k--')"
      ],
      "execution_count": null,
      "outputs": []
    },
    {
      "cell_type": "markdown",
      "metadata": {
        "id": "KXoNqAv7mjWi"
      },
      "source": [
        "# SVM by sklearn library"
      ]
    },
    {
      "cell_type": "code",
      "metadata": {
        "id": "kBYklO8LlWig"
      },
      "source": [
        "from sklearn import datasets\n",
        "from sklearn.preprocessing import StandardScaler\n",
        "from sklearn.svm import SVC\n",
        "\n",
        "import numpy as np\n",
        "iris = datasets.load_iris() # IRIS dataset"
      ],
      "execution_count": null,
      "outputs": []
    },
    {
      "cell_type": "code",
      "metadata": {
        "id": "C_egU1Tkmzd0"
      },
      "source": [
        "X = iris.data[:, [2,3]] #Used in 2D data for 3rd and 4th features\n",
        "y = iris.target #class label\n",
        "X_train, X_test, y_train, y_test = train_test_split(X, y, test_size=0.3, random_state=None )"
      ],
      "execution_count": null,
      "outputs": []
    },
    {
      "cell_type": "markdown",
      "metadata": {
        "id": "wAuUXDZdnK79"
      },
      "source": [
        "## Data standardization is very important for SVM."
      ]
    },
    {
      "cell_type": "code",
      "metadata": {
        "id": "EIbTAFham__g"
      },
      "source": [
        "sc = StandardScaler()\n",
        "sc.fit(X_train)\n",
        "X_train_std = sc.transform(X_train)\n",
        "X_test_std = sc.transform(X_test)"
      ],
      "execution_count": null,
      "outputs": []
    },
    {
      "cell_type": "markdown",
      "metadata": {
        "id": "zqtyzCY_niRc"
      },
      "source": [
        "## SVM by sklearn"
      ]
    },
    {
      "cell_type": "code",
      "metadata": {
        "colab": {
          "base_uri": "https://localhost:8080/"
        },
        "id": "uQ3TpG-mnksy",
        "outputId": "3fb39271-21f9-420c-dcec-004394905914"
      },
      "source": [
        "model = SVC(kernel='linear', random_state=None)\n",
        "model.fit(X_train_std, y_train)"
      ],
      "execution_count": null,
      "outputs": [
        {
          "output_type": "execute_result",
          "data": {
            "text/plain": [
              "SVC(kernel='linear')"
            ]
          },
          "metadata": {},
          "execution_count": 18
        }
      ]
    },
    {
      "cell_type": "code",
      "metadata": {
        "id": "9PgZ4Htfn7yF"
      },
      "source": [
        "import matplotlib.pyplot as plt\n",
        "from mlxtend.plotting import plot_decision_regions\n",
        "plt.style.use('ggplot')\n",
        "\n",
        "X_combined_std = np.vstack((X_train_std, X_test_std))\n",
        "y_combined = np.hstack((y_train, y_test))\n",
        "\n",
        "fig = plt.figure(figsize=(13,8))\n",
        "plot_decision_regions(X_combined_std, y_combined, clf=model)\n",
        "plt.show()"
      ],
      "execution_count": null,
      "outputs": []
    },
    {
      "cell_type": "code",
      "metadata": {
        "id": "AjxdvZHioBnB"
      },
      "source": [],
      "execution_count": null,
      "outputs": []
    }
  ]
}
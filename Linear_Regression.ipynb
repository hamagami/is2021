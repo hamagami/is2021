{
  "nbformat": 4,
  "nbformat_minor": 0,
  "metadata": {
    "colab": {
      "name": " Linear Regression.ipynb",
      "provenance": [],
      "authorship_tag": "ABX9TyPMzHRVU/MsBdz81KTJHWP1",
      "include_colab_link": true
    },
    "kernelspec": {
      "name": "python3",
      "display_name": "Python 3"
    },
    "language_info": {
      "name": "python"
    }
  },
  "cells": [
    {
      "cell_type": "markdown",
      "metadata": {
        "id": "view-in-github",
        "colab_type": "text"
      },
      "source": [
        "<a href=\"https://colab.research.google.com/github/hamagami/is2021/blob/main/Linear_Regression.ipynb\" target=\"_parent\"><img src=\"https://colab.research.google.com/assets/colab-badge.svg\" alt=\"Open In Colab\"/></a>"
      ]
    },
    {
      "cell_type": "markdown",
      "metadata": {
        "id": "4Q2NTKb_WWR0"
      },
      "source": [
        "## Linear Regression(Gradient method)"
      ]
    },
    {
      "cell_type": "code",
      "metadata": {
        "id": "e6g69pYFWbgz"
      },
      "source": [
        "#import numpy, sklern(for dataset), and matplotlib(for graph)\n",
        "import numpy as np\n",
        "from sklearn.datasets import load_boston\n",
        "from matplotlib import pyplot as plt"
      ],
      "execution_count": 2,
      "outputs": []
    },
    {
      "cell_type": "markdown",
      "metadata": {
        "id": "icpbZIiQXUDT"
      },
      "source": [
        "Load Boston hausing dataset"
      ]
    },
    {
      "cell_type": "code",
      "metadata": {
        "id": "a015Kp22WdYQ"
      },
      "source": [
        "#Housing dataset contains information about different houses in Boston.\n",
        "boston = load_boston()"
      ],
      "execution_count": 3,
      "outputs": []
    },
    {
      "cell_type": "code",
      "metadata": {
        "id": "zMPA7m9lWhLe"
      },
      "source": [
        "# Boston dataset has 13 predictor variables. \n",
        "# This example only uses 5th variable (RM: Average number of rooms per dwelling) as x.\n",
        "x = boston.data[:, 5]\n",
        "# y is a response variable which means the value of prices of the house.\n",
        "y = boston.target\n",
        "# The regression predicts y from x  (y=w_1 x + w_2)"
      ],
      "execution_count": 4,
      "outputs": []
    },
    {
      "cell_type": "markdown",
      "metadata": {
        "id": "Gg76wPKkXaZl"
      },
      "source": [
        "Gradient method"
      ]
    },
    {
      "cell_type": "code",
      "metadata": {
        "id": "KmafAHsYWjAs"
      },
      "source": [
        "##### Initializations\n",
        "np.random.seed(1234)\n",
        "# it's little tricky... \n",
        "large_x = np.array([[1, v] for v in x])\n",
        "\n",
        "#Initializing weight values\n",
        "beta = np.random.random(len(large_x[0]))\n",
        "\n",
        "# Learning rate\n",
        "alpha = 0.01\n",
        "\n",
        "# progress results\n",
        "b_100 = []\n",
        "b_1000 = []\n",
        "b_10000 = []"
      ],
      "execution_count": 5,
      "outputs": []
    },
    {
      "cell_type": "code",
      "metadata": {
        "id": "Kouei1zPWlOF"
      },
      "source": [
        "for i in range(10000):\n",
        "        # predicting y_hat\n",
        "        y_hat = np.dot(large_x, beta)  \n",
        "     \n",
        "        # derivative of the loss with respect to x\n",
        "        dbeta = np.dot((y - y_hat), large_x) / len(large_x)  \n",
        "      \n",
        "        # updating w with alpha and dw\n",
        "        beta += alpha * dbeta \n",
        "        # saving progress result\n",
        "        if i == 100-1:\n",
        "            b_100 = np.copy(beta)\n",
        "        elif i == 1000-1:\n",
        "            b_1000 = np.copy(beta)\n",
        "        elif i == 10000-1:\n",
        "            b_10000 = np.copy(beta)\n",
        "            "
      ],
      "execution_count": 6,
      "outputs": []
    },
    {
      "cell_type": "code",
      "metadata": {
        "colab": {
          "base_uri": "https://localhost:8080/",
          "height": 265
        },
        "id": "4rDpklB8WnV5",
        "outputId": "b901ae60-2d9d-4d17-fa36-2f2c0daf30ba"
      },
      "source": [
        "# Drawing results \n",
        "# plot original data\n",
        "plt.scatter(x, y, s=1)\n",
        " \n",
        "# drawing results \n",
        "plt.plot(x, np.dot(large_x, b_100), label='100 iterations')\n",
        "plt.plot(x, np.dot(large_x, b_1000), label='1000 iterations')\n",
        "plt.plot(x, np.dot(large_x, b_10000), label='10000 iterations')\n",
        "plt.plot(x, np.dot(large_x, beta), c='black', linewidth=3.0, label='100000 iterations')\n",
        " \n",
        "plt.legend()\n",
        "plt.show()"
      ],
      "execution_count": 7,
      "outputs": [
        {
          "output_type": "display_data",
          "data": {
            "image/png": "[encoded data removed]",
            "text/plain": [
              "<Figure size 432x288 with 1 Axes>"
            ]
          },
          "metadata": {
            "needs_background": "light"
          }
        }
      ]
    },
    {
      "cell_type": "code",
      "metadata": {
        "colab": {
          "base_uri": "https://localhost:8080/",
          "height": 265
        },
        "id": "8i2dSKAUWo61",
        "outputId": "a8d879ad-a9f6-4749-8b48-f16d95ba5800"
      },
      "source": [
        "# You can use sklearn method LinearRegression\n",
        "# Too easy...\n",
        "from sklearn.linear_model import LinearRegression\n",
        "lr = LinearRegression(fit_intercept=True)\n",
        "lr.fit(large_x, y)\n",
        "pred = lr.predict(large_x)\n",
        "\n",
        "plt.scatter(x, y, s=1)\n",
        "plt.plot(x, pred, c='y', linestyle='dashdot', label='sklearn')\n",
        " \n",
        "plt.legend()\n",
        "plt.show()"
      ],
      "execution_count": 8,
      "outputs": [
        {
          "output_type": "display_data",
          "data": {
            "image/png": "[encoded data removed]",
            "text/plain": [
              "<Figure size 432x288 with 1 Axes>"
            ]
          },
          "metadata": {
            "needs_background": "light"
          }
        }
      ]
    },
    {
      "cell_type": "code",
      "metadata": {
        "colab": {
          "base_uri": "https://localhost:8080/"
        },
        "id": "aVBKtzkEWqnQ",
        "outputId": "810c73f5-9dcd-4a6e-e3e8-809f6e42a4f8"
      },
      "source": [
        "beta"
      ],
      "execution_count": 9,
      "outputs": [
        {
          "output_type": "execute_result",
          "data": {
            "text/plain": [
              "array([-24.05760667,   7.43368936])"
            ]
          },
          "metadata": {},
          "execution_count": 9
        }
      ]
    },
    {
      "cell_type": "code",
      "metadata": {
        "id": "eBB3NwjCWsaw"
      },
      "source": [
        ""
      ],
      "execution_count": null,
      "outputs": []
    }
  ]
}
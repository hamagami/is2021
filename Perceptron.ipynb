{
  "nbformat": 4,
  "nbformat_minor": 0,
  "metadata": {
    "colab": {
      "name": "Perceptron.ipynb",
      "provenance": [],
      "authorship_tag": "ABX9TyOKonB9HwvqT8JOfZaD+ZM7",
      "include_colab_link": true
    },
    "kernelspec": {
      "name": "python3",
      "display_name": "Python 3"
    },
    "language_info": {
      "name": "python"
    }
  },
  "cells": [
    {
      "cell_type": "markdown",
      "metadata": {
        "id": "view-in-github",
        "colab_type": "text"
      },
      "source": [
        "<a href=\"https://colab.research.google.com/github/hamagami/is2021/blob/main/Perceptron.ipynb\" target=\"_parent\"><img src=\"https://colab.research.google.com/assets/colab-badge.svg\" alt=\"Open In Colab\"/></a>"
      ]
    },
    {
      "cell_type": "markdown",
      "metadata": {
        "id": "HBuCmvNY-_yq"
      },
      "source": [
        "# Perceptron"
      ]
    },
    {
      "cell_type": "code",
      "metadata": {
        "id": "D0N41D1s-KBs"
      },
      "source": [
        "import numpy as np\n",
        "import math\n",
        "import matplotlib.pyplot as plt\n",
        "import matplotlib.cm as cm"
      ],
      "execution_count": 18,
      "outputs": []
    },
    {
      "cell_type": "markdown",
      "metadata": {
        "id": "_IKw2qeb_Hx3"
      },
      "source": [
        "## activation function (Step wise)"
      ]
    },
    {
      "cell_type": "code",
      "metadata": {
        "id": "wuGfGnim-Q_a"
      },
      "source": [
        "def f(x):\n",
        "    x = np.array(x)\n",
        "    x[x>=0] = 1\n",
        "    x[x<0] = -1\n",
        "    return x"
      ],
      "execution_count": 26,
      "outputs": []
    },
    {
      "cell_type": "markdown",
      "metadata": {
        "id": "lbKQJ_Ro_QzC"
      },
      "source": [
        "## Training step"
      ]
    },
    {
      "cell_type": "code",
      "metadata": {
        "id": "BgmEE36K-Sy4"
      },
      "source": [
        "def train(w, x, t, eps):\n",
        "    y= f(np.dot(x,w))\n",
        "    if(t != y):\n",
        "        w += eps * t * x\n",
        "    return w"
      ],
      "execution_count": 20,
      "outputs": []
    },
    {
      "cell_type": "markdown",
      "metadata": {
        "id": "CVghEnGA_bUo"
      },
      "source": [
        "## Generate data"
      ]
    },
    {
      "cell_type": "code",
      "metadata": {
        "id": "9gv2qEK3-Uka"
      },
      "source": [
        "def mkdata(w):\n",
        "    x1 = np.arange(-0.1, 1.1, 0.01)\n",
        "    x2 = -(w[0]+w[1]*x1)/w[2]\n",
        "    return x1,x2"
      ],
      "execution_count": 21,
      "outputs": []
    },
    {
      "cell_type": "markdown",
      "metadata": {
        "id": "x697Y75M_kvB"
      },
      "source": [
        "## Main "
      ]
    },
    {
      "cell_type": "code",
      "metadata": {
        "colab": {
          "base_uri": "https://localhost:8080/",
          "height": 281
        },
        "id": "1afynvIK-Wxg",
        "outputId": "d996d26c-3068-41b9-8098-1900c92406f9"
      },
      "source": [
        "eta = 0.2# learning rate\n",
        "max_epoch = 100 # epoch \n",
        "\n",
        "# training data (AND function)\n",
        "X = np.array([[1,0,0], [1,1,0], [1,0,1], [1,1,1]], dtype=np.float32) # inputs [x0, x1, x2]\n",
        "t = np.array([-1,-1,-1,1], dtype=np.float32) # labels\n",
        "plt.scatter(X[:,1],X[:,2],c=t)\n",
        "# Initializing weights\n",
        "w  = np.array([0.1,0.13,-0.2], dtype=np.float32)\n",
        "x1,x2=mkdata(w)\n",
        "plt.plot(x1,x2)\n",
        "plt.title(\"initial\")\n",
        "plt.show()"
      ],
      "execution_count": 39,
      "outputs": [
        {
          "output_type": "display_data",
          "data": {
            "image/png": "[encoded data removed]",
            "text/plain": [
              "<Figure size 432x288 with 1 Axes>"
            ]
          },
          "metadata": {
            "needs_background": "light"
          }
        }
      ]
    },
    {
      "cell_type": "code",
      "metadata": {
        "colab": {
          "base_uri": "https://localhost:8080/",
          "height": 407
        },
        "id": "7_TFo7CL-a_n",
        "outputId": "b015b85a-6205-476d-9123-3f79462ef8bc"
      },
      "source": [
        "# iteration\n",
        "plt.scatter(X[:,1],X[:,2],c=t)\n",
        "for e in range(max_epoch):\n",
        "    for i in range(t.size):\n",
        "        x1,x2=mkdata(w)\n",
        "        plt.plot(x1,x2)\n",
        "        w= train(w, X[i], t[i], eta)    \n",
        "plt.show()"
      ],
      "execution_count": 40,
      "outputs": [
        {
          "output_type": "stream",
          "name": "stderr",
          "text": [
            "/usr/local/lib/python3.7/dist-packages/ipykernel_launcher.py:3: RuntimeWarning: divide by zero encountered in true_divide\n",
            "  This is separate from the ipykernel package so we can avoid doing imports until\n",
            "/usr/local/lib/python3.7/dist-packages/ipykernel_launcher.py:3: RuntimeWarning: divide by zero encountered in true_divide\n",
            "  This is separate from the ipykernel package so we can avoid doing imports until\n",
            "/usr/local/lib/python3.7/dist-packages/ipykernel_launcher.py:3: RuntimeWarning: divide by zero encountered in true_divide\n",
            "  This is separate from the ipykernel package so we can avoid doing imports until\n",
            "/usr/local/lib/python3.7/dist-packages/ipykernel_launcher.py:3: RuntimeWarning: divide by zero encountered in true_divide\n",
            "  This is separate from the ipykernel package so we can avoid doing imports until\n"
          ]
        },
        {
          "output_type": "display_data",
          "data": {
            "image/png": "[encoded data removed]",
            "text/plain": [
              "<Figure size 432x288 with 1 Axes>"
            ]
          },
          "metadata": {
            "needs_background": "light"
          }
        }
      ]
    },
    {
      "cell_type": "code",
      "metadata": {
        "colab": {
          "base_uri": "https://localhost:8080/",
          "height": 265
        },
        "id": "qU06I2Cr-ecw",
        "outputId": "2cffd52f-4b5c-4026-ff88-c502becab2ac"
      },
      "source": [
        "plt.scatter(X[:,1],X[:,2],c=t)\n",
        "x1,x2=mkdata(w)\n",
        "plt.plot(x1,x2)\n",
        "plt.xlim([-0.1,1.1])\n",
        "plt.ylim([-0.1,1.1])\n",
        "plt.show()"
      ],
      "execution_count": 41,
      "outputs": [
        {
          "output_type": "display_data",
          "data": {
            "image/png": "[encoded data removed]",
            "text/plain": [
              "<Figure size 432x288 with 1 Axes>"
            ]
          },
          "metadata": {
            "needs_background": "light"
          }
        }
      ]
    },
    {
      "cell_type": "code",
      "metadata": {
        "id": "NGGsoIR9-jiy"
      },
      "source": [
        ""
      ],
      "execution_count": null,
      "outputs": []
    }
  ]
}
{
  "nbformat": 4,
  "nbformat_minor": 0,
  "metadata": {
    "colab": {
      "name": "NN_scratch.ipynb",
      "provenance": [],
      "authorship_tag": "ABX9TyNNDisbQnwEQl+GGkCJxNe0",
      "include_colab_link": true
    },
    "kernelspec": {
      "name": "python3",
      "display_name": "Python 3"
    },
    "language_info": {
      "name": "python"
    }
  },
  "cells": [
    {
      "cell_type": "markdown",
      "metadata": {
        "id": "view-in-github",
        "colab_type": "text"
      },
      "source": [
        "<a href=\"https://colab.research.google.com/github/hamagami/is2021/blob/main/NN_scratch.ipynb\" target=\"_parent\"><img src=\"https://colab.research.google.com/assets/colab-badge.svg\" alt=\"Open In Colab\"/></a>"
      ]
    },
    {
      "cell_type": "markdown",
      "metadata": {
        "id": "DO920uPEdyse"
      },
      "source": [
        "### Neural Network implementation by scratch\n",
        "This code is the simplest 3-layer neural network scratch code (no framework, just the algorithm). For a simpler implementation, please see the other sample code (implemented using the keras framework)."
      ]
    },
    {
      "cell_type": "code",
      "metadata": {
        "id": "uXV5mvjXdhE1"
      },
      "source": [
        "import numpy\n",
        "import math\n",
        "import random\n",
        "from matplotlib import pyplot"
      ],
      "execution_count": 2,
      "outputs": []
    },
    {
      "cell_type": "markdown",
      "metadata": {
        "id": "6sW0qANbfJ3j"
      },
      "source": [
        "### Neural Network class"
      ]
    },
    {
      "cell_type": "code",
      "metadata": {
        "id": "TDJku5Hpdo5S"
      },
      "source": [
        "class Neural:\n",
        "\n",
        "    # constructor　3-layers\n",
        "    def __init__(self, n_input, n_hidden, n_output):\n",
        "        self.hidden_weight = numpy.random.random_sample((n_hidden, n_input + 1))\n",
        "        self.output_weight = numpy.random.random_sample((n_output, n_hidden + 1))\n",
        "        self.hidden_momentum = numpy.zeros((n_hidden, n_input + 1))\n",
        "        self.output_momentum = numpy.zeros((n_output, n_hidden + 1))\n",
        "\n",
        "\n",
        "# Training\n",
        "    def train(self, X, T, epsilon, mu, epoch):\n",
        "        self.error = numpy.zeros(epoch)\n",
        "        N = X.shape[0]\n",
        "        for epo in range(epoch):\n",
        "            for i in range(N):\n",
        "                x = X[i, :]\n",
        "                t = T[i, :]\n",
        "\n",
        "                self.__update_weight(x, t, epsilon, mu)\n",
        "\n",
        "            self.error[epo] = self.__calc_error(X, T)\n",
        "\n",
        "# Predict\n",
        "    def predict(self, X):\n",
        "        N = X.shape[0]\n",
        "        C = numpy.zeros(N).astype('int')\n",
        "        Y = numpy.zeros((N, X.shape[1]))\n",
        "        for i in range(N):\n",
        "            x = X[i, :]\n",
        "            z, y = self.__forward(x)\n",
        "\n",
        "            Y[i] = y\n",
        "            C[i] = y.argmax()\n",
        "\n",
        "        return (C, Y)\n",
        "\n",
        "## Loss graph\n",
        "    def error_graph(self):\n",
        "        pyplot.ylim(0.0, 2.0)\n",
        "        pyplot.plot(numpy.arange(0, self.error.shape[0]), self.error)\n",
        "        pyplot.show()\n",
        "\n",
        "\n",
        "# sigmoid func\n",
        "    def __sigmoid(self, arr):\n",
        "        return numpy.vectorize(lambda x: 1.0 / (1.0 + math.exp(-x)))(arr)\n",
        "\n",
        "# FF\n",
        "    def __forward(self, x):\n",
        "        # z: output in hidden layer, y: output in output layer\n",
        "        z = self.__sigmoid(self.hidden_weight.dot(numpy.r_[numpy.array([1]), x]))\n",
        "        y = self.__sigmoid(self.output_weight.dot(numpy.r_[numpy.array([1]), z]))\n",
        "\n",
        "        return (z, y)\n",
        "    \n",
        "## update\n",
        "    def __update_weight(self, x, t, epsilon, mu):\n",
        "        z, y = self.__forward(x)\n",
        "\n",
        "        # update output_weight\n",
        "        output_delta = (y - t) * y * (1.0 - y)\n",
        "        _output_weight = self.output_weight\n",
        "        self.output_weight -= epsilon * output_delta.reshape((-1, 1)) * numpy.r_[numpy.array([1]), z] - mu * self.output_momentum\n",
        "        self.output_momentum = self.output_weight - _output_weight\n",
        "\n",
        "        # update hidden_weight\n",
        "        hidden_delta = (self.output_weight[:, 1:].T.dot(output_delta)) * z * (1.0 - z)\n",
        "        _hidden_weight = self.hidden_weight\n",
        "        self.hidden_weight -= epsilon * hidden_delta.reshape((-1, 1)) * numpy.r_[numpy.array([1]), x]\n",
        "        self.hidden_momentum = self.hidden_weight - _hidden_weight\n",
        "\n",
        "# loss func\n",
        "    def __calc_error(self, X, T):\n",
        "        N = X.shape[0]\n",
        "        err = 0.0\n",
        "        for i in range(N):\n",
        "            x = X[i, :]\n",
        "            t = T[i, :]\n",
        "\n",
        "            z, y = self.__forward(x)\n",
        "            err += (y - t).dot((y - t).reshape((-1, 1))) / 2.0\n",
        "\n",
        "        return err"
      ],
      "execution_count": 5,
      "outputs": []
    },
    {
      "cell_type": "markdown",
      "metadata": {
        "id": "X1JKp2O9fIZv"
      },
      "source": [
        "Parameters"
      ]
    },
    {
      "cell_type": "code",
      "metadata": {
        "id": "NSpX94HPfHK4"
      },
      "source": [
        "# \n",
        "X = numpy.array([[0, 0], [0, 1], [1, 0], [1, 1]]) # input pattern \n",
        "T = numpy.array([[1, 0], [0, 1], [0, 1], [1, 0]]) # target pattern\n",
        "N = X.shape[0] # number of data\n",
        "\n",
        "input_size = X.shape[1]\n",
        "hidden_size = 2\n",
        "output_size = 2\n",
        "epsilon = 0.1\n",
        "mu = 0.9\n",
        "epoch = 10000"
      ],
      "execution_count": 6,
      "outputs": []
    },
    {
      "cell_type": "markdown",
      "metadata": {
        "id": "q4XyV6_afbFq"
      },
      "source": [
        "## Main Process"
      ]
    },
    {
      "cell_type": "code",
      "metadata": {
        "colab": {
          "base_uri": "https://localhost:8080/",
          "height": 473
        },
        "id": "en0nJInUfZgq",
        "outputId": "80d20db1-987b-4815-ec4f-9e6bcfe2fa8c"
      },
      "source": [
        "nn = Neural(input_size, hidden_size, output_size) # Generating neural network\n",
        "\n",
        "nn.train(X, T, epsilon, mu, epoch) # training\n",
        "\n",
        "nn.error_graph() # generate graph\n",
        "\n",
        "C, Y = nn.predict(X) # predict\n",
        "\n",
        "for i in range(N):\n",
        "        x = X[i, :]\n",
        "        y = Y[i, :]\n",
        "        c = C[i]\n",
        "\n",
        "        print(x)\n",
        "        print(y)\n",
        "        print(c)"
      ],
      "execution_count": 7,
      "outputs": [
        {
          "output_type": "display_data",
          "data": {
            "image/png": "[encoded data removed]",
            "text/plain": [
              "<Figure size 432x288 with 1 Axes>"
            ]
          },
          "metadata": {
            "needs_background": "light"
          }
        },
        {
          "output_type": "stream",
          "name": "stdout",
          "text": [
            "[0 0]\n",
            "[0.94729417 0.05276445]\n",
            "0\n",
            "[0 1]\n",
            "[0.0459863  0.95396595]\n",
            "1\n",
            "[1 0]\n",
            "[0.04590595 0.95404635]\n",
            "1\n",
            "[1 1]\n",
            "[0.95192243 0.04812511]\n",
            "0\n"
          ]
        }
      ]
    },
    {
      "cell_type": "code",
      "metadata": {
        "id": "hAm38Lhwfhh4"
      },
      "source": [
        ""
      ],
      "execution_count": null,
      "outputs": []
    }
  ]
}
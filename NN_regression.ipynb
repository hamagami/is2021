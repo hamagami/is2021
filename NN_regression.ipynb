{
  "nbformat": 4,
  "nbformat_minor": 0,
  "metadata": {
    "colab": {
      "name": "NN_regression.ipynb",
      "provenance": [],
      "authorship_tag": "ABX9TyMiy2lzdDh5K+NRWOYRcRn2",
      "include_colab_link": true
    },
    "kernelspec": {
      "name": "python3",
      "display_name": "Python 3"
    },
    "language_info": {
      "name": "python"
    }
  },
  "cells": [
    {
      "cell_type": "markdown",
      "metadata": {
        "id": "view-in-github",
        "colab_type": "text"
      },
      "source": [
        "<a href=\"https://colab.research.google.com/github/hamagami/is2021/blob/main/NN_regression.ipynb\" target=\"_parent\"><img src=\"https://colab.research.google.com/assets/colab-badge.svg\" alt=\"Open In Colab\"/></a>"
      ]
    },
    {
      "cell_type": "markdown",
      "metadata": {
        "id": "6ISMfAdgCQlb"
      },
      "source": [
        "# Simple regression with Keras NN framework"
      ]
    },
    {
      "cell_type": "code",
      "metadata": {
        "id": "Dnn_5jI7ssIq"
      },
      "source": [
        "import numpy as np\n",
        "from tensorflow.keras.models import Sequential\n",
        "from tensorflow.keras.layers import Dense\n",
        "import matplotlib.pyplot as plt"
      ],
      "execution_count": 1,
      "outputs": []
    },
    {
      "cell_type": "markdown",
      "metadata": {
        "id": "naAcIQIis1zN"
      },
      "source": [
        "# sample data generator\n"
      ]
    },
    {
      "cell_type": "code",
      "metadata": {
        "id": "Vd2KT0d2s4II"
      },
      "source": [
        "def true_fun(X):\n",
        "    return np.cos(1.5 * np.pi * X)\n"
      ],
      "execution_count": 2,
      "outputs": []
    },
    {
      "cell_type": "markdown",
      "metadata": {
        "id": "TY0TfTTrDy5X"
      },
      "source": [
        "## case1  the number of data is 30 "
      ]
    },
    {
      "cell_type": "code",
      "metadata": {
        "id": "R2qjjkWzs5FC"
      },
      "source": [
        "np.random.seed(0)\n",
        "n_samples = 30\n",
        "X = np.sort(np.random.rand(n_samples))\n",
        "y = true_fun(X) + np.random.randn(n_samples) * 0.1"
      ],
      "execution_count": 90,
      "outputs": []
    },
    {
      "cell_type": "code",
      "metadata": {
        "colab": {
          "base_uri": "https://localhost:8080/",
          "height": 265
        },
        "id": "0Rx9pUP9tAud",
        "outputId": "6bbf255e-f397-409f-ed96-840ea0b762ac"
      },
      "source": [
        "plt.plot(X,true_fun(X),label=\"true value\")\n",
        "plt.scatter(X,y,label=\"training value\")\n",
        "plt.legend()\n",
        "plt.show()"
      ],
      "execution_count": 96,
      "outputs": [
        {
          "output_type": "display_data",
          "data": {
            "image/png": "[encoded data removed]",
            "text/plain": [
              "<Figure size 432x288 with 1 Axes>"
            ]
          },
          "metadata": {
            "needs_background": "light"
          }
        }
      ]
    },
    {
      "cell_type": "code",
      "metadata": {
        "id": "KhygzXyyn9mI"
      },
      "source": [
        "# Build the model.\n",
        "model = Sequential([\n",
        "  Dense(256, activation='tanh', input_dim=1),\n",
        "  Dense(256, activation='tanh'),\n",
        "  Dense(1),\n",
        "])\n"
      ],
      "execution_count": 77,
      "outputs": []
    },
    {
      "cell_type": "code",
      "metadata": {
        "id": "_cqkt7S0tssA"
      },
      "source": [
        "model.compile(\n",
        "  optimizer='sgd',\n",
        "  loss='mse',\n",
        "  metrics=['mae', 'mse'])"
      ],
      "execution_count": 78,
      "outputs": []
    },
    {
      "cell_type": "code",
      "metadata": {
        "colab": {
          "base_uri": "https://localhost:8080/"
        },
        "id": "oVMej2lE-84s",
        "outputId": "00bf72bd-006c-41d3-ee3d-7de6dd888d48"
      },
      "source": [
        "model.summary()"
      ],
      "execution_count": 79,
      "outputs": [
        {
          "output_type": "stream",
          "name": "stdout",
          "text": [
            "Model: \"sequential_8\"\n",
            "_________________________________________________________________\n",
            " Layer (type)                Output Shape              Param #   \n",
            "=================================================================\n",
            " dense_24 (Dense)            (None, 256)               512       \n",
            "                                                                 \n",
            " dense_25 (Dense)            (None, 256)               65792     \n",
            "                                                                 \n",
            " dense_26 (Dense)            (None, 1)                 257       \n",
            "                                                                 \n",
            "=================================================================\n",
            "Total params: 66,561\n",
            "Trainable params: 66,561\n",
            "Non-trainable params: 0\n",
            "_________________________________________________________________\n"
          ]
        }
      ]
    },
    {
      "cell_type": "code",
      "metadata": {
        "id": "VnYHVE_OuAKi"
      },
      "source": [
        "history=model.fit(\n",
        "  X.T,\n",
        "  y.T,\n",
        "  epochs=10000,\n",
        "  batch_size=100,\n",
        "  verbose=0\n",
        ")"
      ],
      "execution_count": 80,
      "outputs": []
    },
    {
      "cell_type": "code",
      "metadata": {
        "id": "9vXJ474duMc6"
      },
      "source": [
        "predictions = model.predict(np.arange(0,1,0.01))"
      ],
      "execution_count": 81,
      "outputs": []
    },
    {
      "cell_type": "code",
      "metadata": {
        "colab": {
          "base_uri": "https://localhost:8080/",
          "height": 265
        },
        "id": "7QErwfmzuZwd",
        "outputId": "b872cc23-f92f-4eda-d7ed-6556a455c86d"
      },
      "source": [
        "plt.plot(X,true_fun(X),label=\"true value\")\n",
        "plt.plot(np.arange(0,1,0.01), predictions, label=\"prediction value\")\n",
        "plt.scatter(X,y,label=\"training value\")\n",
        "plt.legend()\n",
        "plt.show()\n",
        "# you can see the training is successful. "
      ],
      "execution_count": 82,
      "outputs": [
        {
          "output_type": "display_data",
          "data": {
            "image/png": "[encoded data removed]",
            "text/plain": [
              "<Figure size 432x288 with 1 Axes>"
            ]
          },
          "metadata": {
            "needs_background": "light"
          }
        }
      ]
    },
    {
      "cell_type": "code",
      "metadata": {
        "id": "-lX-UHaJuhJO"
      },
      "source": [
        ""
      ],
      "execution_count": 67,
      "outputs": []
    },
    {
      "cell_type": "markdown",
      "metadata": {
        "id": "r1rRfgpXCasr"
      },
      "source": [
        "## case2: overfitting"
      ]
    },
    {
      "cell_type": "markdown",
      "metadata": {
        "id": "MgLGt5l5E7bg"
      },
      "source": [
        "Overfitting is more likely to occur when the number of data samples is small. Let's set the number of samples to 5."
      ]
    },
    {
      "cell_type": "code",
      "metadata": {
        "id": "DmYBX-V_Ck7X"
      },
      "source": [
        "np.random.seed(9)\n",
        "n_samples = 5\n",
        "sX = np.sort(np.random.rand(n_samples))\n",
        "sy = true_fun(sX) + np.random.randn(n_samples) * 0.1"
      ],
      "execution_count": 123,
      "outputs": []
    },
    {
      "cell_type": "code",
      "metadata": {
        "id": "hS_afCYvDFXX"
      },
      "source": [
        "# Build the model.\n",
        "model = Sequential([\n",
        "  Dense(256, activation='tanh', input_dim=1),\n",
        "  Dense(256, activation='tanh'),\n",
        "  Dense(1),\n",
        "])\n"
      ],
      "execution_count": 124,
      "outputs": []
    },
    {
      "cell_type": "code",
      "metadata": {
        "id": "0efWPQK6DgI2"
      },
      "source": [
        "model.compile(\n",
        "  optimizer='sgd',\n",
        "  loss='mse',\n",
        "  metrics=['mae', 'mse'])"
      ],
      "execution_count": 125,
      "outputs": []
    },
    {
      "cell_type": "code",
      "metadata": {
        "colab": {
          "base_uri": "https://localhost:8080/",
          "height": 265
        },
        "id": "MGWFEcPWC4QD",
        "outputId": "73c435ba-f3ef-4496-8e94-95080fc37a92"
      },
      "source": [
        "plt.xlim([0,1])\n",
        "plt.plot(X,true_fun(X),label=\"true value\")\n",
        "plt.scatter(sX,sy,label=\"training value\")\n",
        "plt.legend()\n",
        "plt.show()"
      ],
      "execution_count": 126,
      "outputs": [
        {
          "output_type": "display_data",
          "data": {
            "image/png": "[encoded data removed]",
            "text/plain": [
              "<Figure size 432x288 with 1 Axes>"
            ]
          },
          "metadata": {
            "needs_background": "light"
          }
        }
      ]
    },
    {
      "cell_type": "code",
      "metadata": {
        "id": "SngJnENpClvm"
      },
      "source": [
        "history=model.fit(\n",
        "  sX.T,\n",
        "  sy.T,\n",
        "  epochs=10000,\n",
        "  batch_size=100,\n",
        "  verbose=0\n",
        ")"
      ],
      "execution_count": 127,
      "outputs": []
    },
    {
      "cell_type": "code",
      "metadata": {
        "id": "h4Iw7Kd2CsDV"
      },
      "source": [
        "predictions = model.predict(np.arange(0,1,0.01))"
      ],
      "execution_count": 128,
      "outputs": []
    },
    {
      "cell_type": "code",
      "metadata": {
        "colab": {
          "base_uri": "https://localhost:8080/",
          "height": 265
        },
        "id": "xhkvOY-2CwQ1",
        "outputId": "7cb46105-3867-4776-91af-aa1eb7af2818"
      },
      "source": [
        "plt.plot(X,true_fun(X),label=\"true value\")\n",
        "plt.plot(np.arange(0,1,0.01), predictions, label=\"prediction value\")\n",
        "plt.scatter(sX,sy,label=\"training value\")\n",
        "plt.legend()\n",
        "plt.show()\n",
        "## Oops... the prediction values are indeed close to the training samples, but they are far from the true data.\n",
        "## If the model is too complex for such a small amount of training data, overtraining can easily occur."
      ],
      "execution_count": 129,
      "outputs": [
        {
          "output_type": "display_data",
          "data": {
            "image/png": "[encoded data removed]",
            "text/plain": [
              "<Figure size 432x288 with 1 Axes>"
            ]
          },
          "metadata": {
            "needs_background": "light"
          }
        }
      ]
    },
    {
      "cell_type": "code",
      "metadata": {
        "id": "ImW2g586CyGR"
      },
      "source": [
        ""
      ],
      "execution_count": 52,
      "outputs": []
    }
  ]
}
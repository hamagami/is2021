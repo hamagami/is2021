{
  "nbformat": 4,
  "nbformat_minor": 0,
  "metadata": {
    "colab": {
      "name": "Fisher_Discriminant_Analysiss.ipynb",
      "provenance": [],
      "authorship_tag": "ABX9TyMc+bPw1rDgiiOMm/AcAs3h",
      "include_colab_link": true
    },
    "kernelspec": {
      "name": "python3",
      "display_name": "Python 3"
    },
    "language_info": {
      "name": "python"
    }
  },
  "cells": [
    {
      "cell_type": "markdown",
      "metadata": {
        "id": "view-in-github",
        "colab_type": "text"
      },
      "source": [
        "<a href=\"https://colab.research.google.com/github/hamagami/is2021/blob/main/Fisher_Discriminant_Analysiss.ipynb\" target=\"_parent\"><img src=\"https://colab.research.google.com/assets/colab-badge.svg\" alt=\"Open In Colab\"/></a>"
      ]
    },
    {
      "cell_type": "markdown",
      "metadata": {
        "id": "7OxZMhYk9DCU"
      },
      "source": [
        "# Fisher Discriminant Analysis\n",
        "Distribution-based classification analysis"
      ]
    },
    {
      "cell_type": "code",
      "metadata": {
        "id": "65xono9Q8vYk"
      },
      "source": [
        "import numpy as np\n",
        "import matplotlib.pyplot as plt\n",
        "DIM = 2 #dimension of data"
      ],
      "execution_count": 1,
      "outputs": []
    },
    {
      "cell_type": "markdown",
      "metadata": {
        "id": "gIDh328B9el8"
      },
      "source": [
        "## Liner model"
      ]
    },
    {
      "cell_type": "code",
      "metadata": {
        "id": "ZT9axohY83-i"
      },
      "source": [
        "def f(x, a, b):\n",
        "    return a*x+b"
      ],
      "execution_count": 2,
      "outputs": []
    },
    {
      "cell_type": "markdown",
      "metadata": {
        "id": "-gb04V_v9isB"
      },
      "source": [
        "## Plot format"
      ]
    },
    {
      "cell_type": "code",
      "metadata": {
        "id": "hv7ttef985_u"
      },
      "source": [
        "def plot(cls1, cls2, line=None):\n",
        "    x,y = cls1.T\n",
        "    plt.plot(x, y, 'bo', ms=3, label='class1')\n",
        "    x, y = cls2.T\n",
        "    plt.plot(x, y, 'ro', ms=3, label='class2')\n",
        "\n",
        "    if not (line is None):\n",
        "        plt.plot(line[0], line[1], 'k-', ms=5)\n",
        "\n",
        "    plt.xlim(-10,10)\n",
        "    plt.ylim(-10,10)\n",
        "\n",
        "    plt.show()"
      ],
      "execution_count": 3,
      "outputs": []
    },
    {
      "cell_type": "markdown",
      "metadata": {
        "id": "WTLtZs5S9m-g"
      },
      "source": [
        "## Fisher analysis"
      ]
    },
    {
      "cell_type": "code",
      "metadata": {
        "id": "OrUumJIv871H"
      },
      "source": [
        "def fisher(cls1, cls2):\n",
        "    cls1 = np.array(cls1)\n",
        "    cls2 = np.array(cls2)\n",
        "\n",
        "    #means in each class\n",
        "    mean1 = np.mean(cls1, axis=0)\n",
        "    mean2 = np.mean(cls2, axis=0)\n",
        "\n",
        "    #covariance matrix in class\n",
        "    sw = np.zeros((DIM,DIM))\n",
        "    for xn in cls1:\n",
        "        xn = xn.reshape(DIM,1)\n",
        "        mean1 = mean1.reshape(DIM,1)\n",
        "        sw += np.dot((xn-mean1),(xn-mean1).T)\n",
        "    for xn in cls2:\n",
        "        xn = xn.reshape(DIM,1)\n",
        "        mean2 = mean2.reshape(DIM,1)\n",
        "        sw += np.dot((xn-mean2),(xn-mean2).T)\n",
        "\n",
        "    #inv. matrix\n",
        "    sw_inv = np.linalg.inv(sw)\n",
        "\n",
        "    w = np.dot(sw_inv,(mean1-mean2))\n",
        "\n",
        "    return w,(mean1,mean2)"
      ],
      "execution_count": 4,
      "outputs": []
    },
    {
      "cell_type": "markdown",
      "metadata": {
        "id": "FRlht_6C9s6e"
      },
      "source": [
        "## main "
      ]
    },
    {
      "cell_type": "code",
      "metadata": {
        "colab": {
          "base_uri": "https://localhost:8080/",
          "height": 322
        },
        "id": "x4P4TqqF8-Sb",
        "outputId": "029a5361-3b52-4e93-c693-6e7e5409ce90"
      },
      "source": [
        "# generate data\n",
        "cov = [[5,1],[1,5]] #Covariance\n",
        "cls1 = np.random.multivariate_normal([-5,-5], cov, 50)\n",
        "cls2 = np.random.multivariate_normal([5,5], cov, 50)\n",
        "\n",
        "# Fisher analysis\n",
        "w, means= fisher(cls1, cls2)\n",
        "\n",
        "#Plot\n",
        "mean = (means[0] + means[1])/2\n",
        "a = -w[0]/w[1] \n",
        "b = a*mean[0]+mean[1]\n",
        "x = np.linspace(-8, 8, 1000)\n",
        "y = f(x,a,b)\n",
        "\n",
        "plot(cls1, cls2, (x,y))\n",
        "    \n",
        "print('w =', w, '\\n')"
      ],
      "execution_count": 6,
      "outputs": [
        {
          "output_type": "display_data",
          "data": {
            "image/png": "[encoded data removed]",
            "text/plain": [
              "<Figure size 432x288 with 1 Axes>"
            ]
          },
          "metadata": {
            "needs_background": "light"
          }
        },
        {
          "output_type": "stream",
          "name": "stdout",
          "text": [
            "w = [[-0.01213026]\n",
            " [-0.01877282]] \n",
            "\n"
          ]
        }
      ]
    },
    {
      "cell_type": "code",
      "metadata": {
        "id": "wkgUQ4o-9AgA"
      },
      "source": [
        ""
      ],
      "execution_count": null,
      "outputs": []
    }
  ]
}